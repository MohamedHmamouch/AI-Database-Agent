{
 "cells": [
  {
   "cell_type": "code",
   "execution_count": 78,
   "metadata": {},
   "outputs": [],
   "source": [
    "from langchain_community.utilities import SQLDatabase\n",
    "import os\n",
    "import pandas as pd\n",
    "from operator import itemgetter\n",
    "from langchain_core.output_parsers import StrOutputParser\n",
    "from langchain_core.prompts import PromptTemplate\n",
    "from langchain_core.runnables import RunnablePassthrough\n",
    "from sqlalchemy import create_engine\n"
   ]
  },
  {
   "cell_type": "code",
   "execution_count": 79,
   "metadata": {},
   "outputs": [
    {
     "data": {
      "text/plain": [
       "'c:\\\\Users\\\\adminn\\\\Documents\\\\GitHub\\\\AI-Database-Agent'"
      ]
     },
     "execution_count": 79,
     "metadata": {},
     "output_type": "execute_result"
    }
   ],
   "source": [
    "%pwd"
   ]
  },
  {
   "cell_type": "code",
   "execution_count": 3,
   "metadata": {},
   "outputs": [],
   "source": [
    "os.chdir('..//')"
   ]
  },
  {
   "cell_type": "code",
   "execution_count": 4,
   "metadata": {},
   "outputs": [
    {
     "name": "stdout",
     "output_type": "stream",
     "text": [
      "<bound method SQLDatabase.get_usable_table_names of <langchain_community.utilities.sql_database.SQLDatabase object at 0x0000023FBD47B4F0>>\n"
     ]
    },
    {
     "data": {
      "text/plain": [
       "\"[(1, 'Adams', 'Andrew', 'General Manager', None, '1962-02-18 00:00:00', '2002-08-14 00:00:00', '11120 Jasper Ave NW', 'Edmonton', 'AB', 'Canada', 'T5K 2N1', '+1 (780) 428-9482', '+1 (780) 428-3457', 'andrew@chinookcorp.com'), (2, 'Edwards', 'Nancy', 'Sales Manager', 1, '1958-12-08 00:00:00', '2002-05-01 00:00:00', '825 8 Ave SW', 'Calgary', 'AB', 'Canada', 'T2P 2T3', '+1 (403) 262-3443', '+1 (403) 262-3322', 'nancy@chinookcorp.com'), (3, 'Peacock', 'Jane', 'Sales Support Agent', 2, '1973-08-29 00:00:00', '2002-04-01 00:00:00', '1111 6 Ave SW', 'Calgary', 'AB', 'Canada', 'T2P 5M5', '+1 (403) 262-3443', '+1 (403) 262-6712', 'jane@chinookcorp.com'), (4, 'Park', 'Margaret', 'Sales Support Agent', 2, '1947-09-19 00:00:00', '2003-05-03 00:00:00', '683 10 Street SW', 'Calgary', 'AB', 'Canada', 'T2P 5G3', '+1 (403) 263-4423', '+1 (403) 263-4289', 'margaret@chinookcorp.com'), (5, 'Johnson', 'Steve', 'Sales Support Agent', 2, '1965-03-03 00:00:00', '2003-10-17 00:00:00', '7727B 41 Ave', 'Calgary', 'AB', 'Canada', 'T3B 1Y7', '1 (780) 836-9987', '1 (780) 836-9543', 'steve@chinookcorp.com'), (6, 'Mitchell', 'Michael', 'IT Manager', 1, '1973-07-01 00:00:00', '2003-10-17 00:00:00', '5827 Bowness Road NW', 'Calgary', 'AB', 'Canada', 'T3B 0C5', '+1 (403) 246-9887', '+1 (403) 246-9899', 'michael@chinookcorp.com'), (7, 'King', 'Robert', 'IT Staff', 6, '1970-05-29 00:00:00', '2004-01-02 00:00:00', '590 Columbia Boulevard West', 'Lethbridge', 'AB', 'Canada', 'T1K 5N8', '+1 (403) 456-9986', '+1 (403) 456-8485', 'robert@chinookcorp.com'), (8, 'Callahan', 'Laura', 'IT Staff', 6, '1968-01-09 00:00:00', '2004-03-04 00:00:00', '923 7 ST NW', 'Lethbridge', 'AB', 'Canada', 'T1H 1Y8', '+1 (403) 467-3351', '+1 (403) 467-8772', 'laura@chinookcorp.com')]\""
      ]
     },
     "execution_count": 4,
     "metadata": {},
     "output_type": "execute_result"
    }
   ],
   "source": [
    "db_path=\"data\"+\"/sqldb.db\"\n",
    "db=SQLDatabase.from_uri(f\"sqlite:///{db_path}\")\n",
    "print(db.get_usable_table_names)\n",
    "\n",
    "db.run(\n",
    "    \" SELECT * FROM Employee LIMIT 10;\"\n",
    ")"
   ]
  },
  {
   "cell_type": "markdown",
   "metadata": {},
   "source": [
    "# Q&A DataBase"
   ]
  },
  {
   "cell_type": "code",
   "execution_count": 80,
   "metadata": {},
   "outputs": [],
   "source": [
    "import warnings\n",
    "import openai\n",
    "warnings.filterwarnings('ignore')\n",
    "from dotenv import load_dotenv\n"
   ]
  },
  {
   "cell_type": "code",
   "execution_count": 81,
   "metadata": {},
   "outputs": [],
   "source": [
    "from openai import OpenAI\n",
    "from langchain.chat_models import ChatOpenAI\n",
    "import os\n",
    "\n",
    "open_api_key=os.getenv('OPENAI_API_KEY')\n",
    "\n",
    "llm=ChatOpenAI(\n",
    "    model='gpt-4',\n",
    "    temperature=0,\n",
    "    openai_api_key=open_api_key\n",
    ")\n"
   ]
  },
  {
   "cell_type": "code",
   "execution_count": 82,
   "metadata": {},
   "outputs": [
    {
     "data": {
      "text/plain": [
       "AIMessage(content=\"The meaning of life is a philosophical and metaphysical question related to the purpose or significance of life or existence in general. This concept can be interpreted in many different ways depending on one's beliefs. Some people believe the meaning of life is to pursue happiness or personal fulfillment, while others may believe it is to contribute to the betterment of humanity, seek knowledge, or fulfill a certain destiny. In religious contexts, the meaning of life is often believed to be a divine purpose or plan. Ultimately, the answer can be deeply personal and subjective.\", additional_kwargs={}, response_metadata={'token_usage': {'completion_tokens': 109, 'prompt_tokens': 13, 'total_tokens': 122, 'completion_tokens_details': {'accepted_prediction_tokens': 0, 'audio_tokens': 0, 'reasoning_tokens': 0, 'rejected_prediction_tokens': 0}, 'prompt_tokens_details': {'audio_tokens': 0, 'cached_tokens': 0}}, 'model_name': 'gpt-4', 'system_fingerprint': None, 'finish_reason': 'stop', 'logprobs': None}, id='run-16711d3a-e978-4de3-99cd-9a357aed9f9a-0')"
      ]
     },
     "execution_count": 82,
     "metadata": {},
     "output_type": "execute_result"
    }
   ],
   "source": [
    "llm.invoke('what is meaning of life?')"
   ]
  },
  {
   "cell_type": "code",
   "execution_count": 8,
   "metadata": {},
   "outputs": [
    {
     "data": {
      "text/plain": [
       "'SELECT COUNT(\"ArtistId\") FROM \"Artist\"'"
      ]
     },
     "execution_count": 8,
     "metadata": {},
     "output_type": "execute_result"
    }
   ],
   "source": [
    "from langchain.chains import create_sql_query_chain\n",
    "chain=create_sql_query_chain(llm,db)\n",
    "response=chain.invoke({'question':'how many artistis are there?'})\n",
    "response"
   ]
  },
  {
   "cell_type": "code",
   "execution_count": 11,
   "metadata": {},
   "outputs": [
    {
     "data": {
      "text/plain": [
       "\"[(0, 'EmployeeId', 'INTEGER', 1, None, 1), (1, 'LastName', 'NVARCHAR(20)', 1, None, 0), (2, 'FirstName', 'NVARCHAR(20)', 1, None, 0), (3, 'Title', 'NVARCHAR(30)', 0, None, 0), (4, 'ReportsTo', 'INTEGER', 0, None, 0), (5, 'BirthDate', 'DATETIME', 0, None, 0), (6, 'HireDate', 'DATETIME', 0, None, 0), (7, 'Address', 'NVARCHAR(70)', 0, None, 0), (8, 'City', 'NVARCHAR(40)', 0, None, 0), (9, 'State', 'NVARCHAR(40)', 0, None, 0), (10, 'Country', 'NVARCHAR(40)', 0, None, 0), (11, 'PostalCode', 'NVARCHAR(10)', 0, None, 0), (12, 'Phone', 'NVARCHAR(24)', 0, None, 0), (13, 'Fax', 'NVARCHAR(24)', 0, None, 0), (14, 'Email', 'NVARCHAR(60)', 0, None, 0)]\""
      ]
     },
     "execution_count": 11,
     "metadata": {},
     "output_type": "execute_result"
    }
   ],
   "source": [
    "db.run(response)"
   ]
  },
  {
   "cell_type": "code",
   "execution_count": 9,
   "metadata": {},
   "outputs": [
    {
     "data": {
      "text/plain": [
       "'PRAGMA table_info(Employee);'"
      ]
     },
     "execution_count": 9,
     "metadata": {},
     "output_type": "execute_result"
    }
   ],
   "source": [
    "from langchain.chains import create_sql_query_chain\n",
    "chain=create_sql_query_chain(llm,db)\n",
    "response=chain.invoke({'question':'give me all column names that i have in  employee table?'})\n",
    "response"
   ]
  },
  {
   "cell_type": "code",
   "execution_count": 10,
   "metadata": {},
   "outputs": [
    {
     "data": {
      "text/plain": [
       "\"[(0, 'EmployeeId', 'INTEGER', 1, None, 1), (1, 'LastName', 'NVARCHAR(20)', 1, None, 0), (2, 'FirstName', 'NVARCHAR(20)', 1, None, 0), (3, 'Title', 'NVARCHAR(30)', 0, None, 0), (4, 'ReportsTo', 'INTEGER', 0, None, 0), (5, 'BirthDate', 'DATETIME', 0, None, 0), (6, 'HireDate', 'DATETIME', 0, None, 0), (7, 'Address', 'NVARCHAR(70)', 0, None, 0), (8, 'City', 'NVARCHAR(40)', 0, None, 0), (9, 'State', 'NVARCHAR(40)', 0, None, 0), (10, 'Country', 'NVARCHAR(40)', 0, None, 0), (11, 'PostalCode', 'NVARCHAR(10)', 0, None, 0), (12, 'Phone', 'NVARCHAR(24)', 0, None, 0), (13, 'Fax', 'NVARCHAR(24)', 0, None, 0), (14, 'Email', 'NVARCHAR(60)', 0, None, 0)]\""
      ]
     },
     "execution_count": 10,
     "metadata": {},
     "output_type": "execute_result"
    }
   ],
   "source": [
    "db.run(response)"
   ]
  },
  {
   "cell_type": "code",
   "execution_count": 12,
   "metadata": {},
   "outputs": [
    {
     "name": "stderr",
     "output_type": "stream",
     "text": [
      "C:\\Users\\adminn\\AppData\\Local\\Temp\\ipykernel_7844\\2611052205.py:4: LangChainDeprecationWarning: The class `QuerySQLDataBaseTool` was deprecated in LangChain 0.3.12 and will be removed in 1.0. An updated version of the class exists in the :class:`~langchain-community package and should be used instead. To use it run `pip install -U :class:`~langchain-community` and import as `from :class:`~langchain_community.tools import QuerySQLDatabaseTool``.\n",
      "  excute_query=QuerySQLDataBaseTool(db=db)\n"
     ]
    },
    {
     "data": {
      "text/plain": [
       "'[(8,)]'"
      ]
     },
     "execution_count": 12,
     "metadata": {},
     "output_type": "execute_result"
    }
   ],
   "source": [
    "from langchain_community.tools.sql_database.tool import QuerySQLDataBaseTool\n",
    "\n",
    "write_query=create_sql_query_chain(llm,db)\n",
    "excute_query=QuerySQLDataBaseTool(db=db)\n",
    "chain=write_query | excute_query\n",
    "\n",
    "chain.invoke({\"question\":'how many employees are there'})"
   ]
  },
  {
   "cell_type": "code",
   "execution_count": 13,
   "metadata": {},
   "outputs": [
    {
     "data": {
      "text/plain": [
       "'The columns in the employee table are EmployeeId, LastName, FirstName, Title, ReportsTo, BirthDate, HireDate, Address, City, State, Country, PostalCode, Phone, Fax, and Email.'"
      ]
     },
     "execution_count": 13,
     "metadata": {},
     "output_type": "execute_result"
    }
   ],
   "source": [
    "\n",
    "\n",
    "prompt=PromptTemplate.from_template(\n",
    "\n",
    "    \"\"\" Given the following user question,corresponding SQL query and SQL result and ansswer the user question\n",
    "    \n",
    "    Question: {question}\n",
    "    SQL Query: {query}\n",
    "    SQL Result: {result}\n",
    "    Answer:\"\"\"\n",
    ")\n",
    "\n",
    "answer=prompt|llm|StrOutputParser()\n",
    "chain=(\n",
    "    RunnablePassthrough.assign(query=write_query).assign(\n",
    "        result=itemgetter(\"query\") | excute_query\n",
    "    ) | answer\n",
    ")\n",
    "\n",
    "chain.invoke({\"question\":'give me the columns in employee table'})\n"
   ]
  },
  {
   "cell_type": "code",
   "execution_count": 14,
   "metadata": {},
   "outputs": [],
   "source": [
    "import yaml\n",
    "def read_yaml_file(path:str):\n",
    "\n",
    "    with open(path) as f:\n",
    "\n",
    "        app_config=yaml.load(f,Loader=yaml.FullLoader)\n",
    "\n",
    "    return app_config"
   ]
  },
  {
   "cell_type": "code",
   "execution_count": 15,
   "metadata": {},
   "outputs": [
    {
     "data": {
      "text/plain": [
       "{'directories': {'stored_csv_xlsx_directory': 'data/csv_data',\n",
       "  'sqldb_directory': 'data/sqldb.db',\n",
       "  'uploaded_files_sqldb_directory': 'data/uploaded_files_sqldb.db',\n",
       "  'stored_csv_xlsx_sqldb_directory': 'data/csv_xlsx_sqldb.db',\n",
       "  'persist_directory': 'data/chroma'},\n",
       " 'llm_config': {'agent_llm_system_role': 'Given the following user question, corresponding SQL query, and SQL result, answer the user question.\\n Question: {question}\\n SQL Query: {query}\\n SQL Result: {result}\\n Answer: ',\n",
       "  'rag_llm_system_role': \"You will recieve the user's question along with the search results of that question over a database. Give the user the proper answer.\",\n",
       "  'model_name': 'gpt-4',\n",
       "  'temperature': 0},\n",
       " 'rag_config': {'collection_name': 'titanic', 'top_k': 1}}"
      ]
     },
     "execution_count": 15,
     "metadata": {},
     "output_type": "execute_result"
    }
   ],
   "source": [
    "app_config=read_yaml_file('configs/config.yaml')\n",
    "app_config"
   ]
  },
  {
   "cell_type": "code",
   "execution_count": 17,
   "metadata": {},
   "outputs": [],
   "source": [
    "from sqlalchemy import create_engine,inspect"
   ]
  },
  {
   "cell_type": "code",
   "execution_count": 42,
   "metadata": {},
   "outputs": [
    {
     "data": {
      "text/plain": [
       "Engine(sqlite:///data/csv_xlsx_sqldb.db)"
      ]
     },
     "execution_count": 42,
     "metadata": {},
     "output_type": "execute_result"
    }
   ],
   "source": [
    "db_path=app_config['directories']['stored_csv_xlsx_sqldb_directory']\n",
    "db_path=f\"sqlite:///{db_path}\"\n",
    "engine=create_engine(db_path)\n",
    "engine\n"
   ]
  },
  {
   "cell_type": "code",
   "execution_count": 44,
   "metadata": {},
   "outputs": [
    {
     "data": {
      "text/plain": [
       "['cancer.csv', 'diabetes.csv']"
      ]
     },
     "execution_count": 44,
     "metadata": {},
     "output_type": "execute_result"
    }
   ],
   "source": [
    "csv_data=app_config['directories']['stored_csv_xlsx_directory']\n",
    "files_list=os.listdir(csv_data)\n",
    "files_list"
   ]
  },
  {
   "cell_type": "code",
   "execution_count": null,
   "metadata": {},
   "outputs": [],
   "source": [
    "\n",
    "for file in files_list:\n",
    "    full_file_path=os.path.join(csv_data,file)\n",
    "    file_name,file_extension=os.path.splitext(file)\n",
    "    if file_extension == '.csv':\n",
    "\n",
    "        df=pd.read_csv(full_file_path)\n",
    "    elif file_extension == '.xlsx':\n",
    "\n",
    "        df=pd.read_excel(full_file_path)\n",
    "\n",
    "    else:\n",
    "        raise NotImplementedError('The expected extension is not implemented')\n",
    "    \n",
    "    df.to_sql(file_name,engine,index=False,if_exists='replace')\n",
    "\n",
    "    \n"
   ]
  },
  {
   "cell_type": "code",
   "execution_count": 46,
   "metadata": {},
   "outputs": [
    {
     "data": {
      "text/plain": [
       "['cancer', 'diabetes']"
      ]
     },
     "execution_count": 46,
     "metadata": {},
     "output_type": "execute_result"
    }
   ],
   "source": [
    "inspection=inspect(engine)\n",
    "table_names=inspection.get_table_names()\n",
    "table_names"
   ]
  },
  {
   "cell_type": "code",
   "execution_count": null,
   "metadata": {},
   "outputs": [],
   "source": []
  },
  {
   "cell_type": "code",
   "execution_count": null,
   "metadata": {},
   "outputs": [],
   "source": []
  },
  {
   "cell_type": "markdown",
   "metadata": {},
   "source": [
    "# Q&A titanic dataset with agent"
   ]
  },
  {
   "cell_type": "code",
   "execution_count": 28,
   "metadata": {},
   "outputs": [
    {
     "data": {
      "text/plain": [
       "891"
      ]
     },
     "execution_count": 28,
     "metadata": {},
     "output_type": "execute_result"
    }
   ],
   "source": [
    "df=pd.read_csv('data/uploaded_data/titanic_dataset.csv')\n",
    "db_path=\"data\"+\"test_sqldb.db\"\n",
    "db_path=f\"sqlite:///{db_path}\"\n",
    "engine=create_engine(db_path)\n",
    "\n",
    "df.to_sql(\"titanic\",engine,index=False,if_exists='replace')"
   ]
  },
  {
   "cell_type": "code",
   "execution_count": 29,
   "metadata": {},
   "outputs": [],
   "source": [
    "from langchain_community.agent_toolkits import create_sql_agent\n",
    "db = SQLDatabase(engine=engine)\n",
    "agent_excutor=create_sql_agent(\n",
    "    llm,db=db,agent_type='openai-tools'\n",
    ",verbose=True)"
   ]
  },
  {
   "cell_type": "code",
   "execution_count": 31,
   "metadata": {},
   "outputs": [
    {
     "name": "stdout",
     "output_type": "stream",
     "text": [
      "\n",
      "\n",
      "\u001b[1m> Entering new SQL Agent Executor chain...\u001b[0m\n",
      "\u001b[32;1m\u001b[1;3m\n",
      "Invoking: `sql_db_list_tables` with `{}`\n",
      "\n",
      "\n",
      "\u001b[0m\u001b[38;5;200m\u001b[1;3mtitanic\u001b[0m\u001b[32;1m\u001b[1;3m\n",
      "Invoking: `sql_db_schema` with `{'table_names': 'titanic'}`\n",
      "\n",
      "\n",
      "\u001b[0m\u001b[33;1m\u001b[1;3m\n",
      "CREATE TABLE titanic (\n",
      "\t\"PassengerId\" BIGINT, \n",
      "\t\"Survived\" BIGINT, \n",
      "\t\"Pclass\" BIGINT, \n",
      "\t\"Name\" TEXT, \n",
      "\t\"Sex\" TEXT, \n",
      "\t\"Age\" FLOAT, \n",
      "\t\"SibSp\" BIGINT, \n",
      "\t\"Parch\" BIGINT, \n",
      "\t\"Ticket\" TEXT, \n",
      "\t\"Fare\" FLOAT, \n",
      "\t\"Cabin\" TEXT, \n",
      "\t\"Embarked\" TEXT\n",
      ")\n",
      "\n",
      "/*\n",
      "3 rows from titanic table:\n",
      "PassengerId\tSurvived\tPclass\tName\tSex\tAge\tSibSp\tParch\tTicket\tFare\tCabin\tEmbarked\n",
      "1\t0\t3\tBraund, Mr. Owen Harris\tmale\t22.0\t1\t0\tA/5 21171\t7.25\tNone\tS\n",
      "2\t1\t1\tCumings, Mrs. John Bradley (Florence Briggs Thayer)\tfemale\t38.0\t1\t0\tPC 17599\t71.2833\tC85\tC\n",
      "3\t1\t3\tHeikkinen, Miss. Laina\tfemale\t26.0\t0\t0\tSTON/O2. 3101282\t7.925\tNone\tS\n",
      "*/\u001b[0m\u001b[32;1m\u001b[1;3m\n",
      "Invoking: `sql_db_query_checker` with `{'query': 'SELECT AVG(Age) as average_age FROM titanic WHERE Survived = 1'}`\n",
      "responded: The table 'titanic' contains the information we need. The 'Survived' column indicates whether a passenger survived (1) or not (0), and the 'Age' column contains the age of the passengers. \n",
      "\n",
      "Let's write a SQL query to find the average age of survivors. We will use the AVG() function to calculate the average and the WHERE clause to filter only the survivors. \n",
      "\n",
      "Let's check the query before executing it.\n",
      "\n",
      "\u001b[0m\u001b[36;1m\u001b[1;3mSELECT AVG(Age) as average_age FROM titanic WHERE Survived = 1\u001b[0m\u001b[32;1m\u001b[1;3m\n",
      "Invoking: `sql_db_query` with `{'query': 'SELECT AVG(Age) as average_age FROM titanic WHERE Survived = 1'}`\n",
      "\n",
      "\n",
      "\u001b[0m\u001b[36;1m\u001b[1;3m[(28.343689655172415,)]\u001b[0m\u001b[32;1m\u001b[1;3mThe average age of survivors is approximately 28.34 years.\u001b[0m\n",
      "\n",
      "\u001b[1m> Finished chain.\u001b[0m\n"
     ]
    },
    {
     "data": {
      "text/plain": [
       "{'input': 'what is the average age of survivors ?',\n",
       " 'output': 'The average age of survivors is approximately 28.34 years.'}"
      ]
     },
     "execution_count": 31,
     "metadata": {},
     "output_type": "execute_result"
    }
   ],
   "source": [
    "agent_excutor.invoke({\"input\":'what is the average age of survivors ?'})"
   ]
  },
  {
   "cell_type": "code",
   "execution_count": 45,
   "metadata": {},
   "outputs": [
    {
     "name": "stdout",
     "output_type": "stream",
     "text": [
      "\n",
      "\n",
      "\u001b[1m> Entering new SQL Agent Executor chain...\u001b[0m\n",
      "\u001b[32;1m\u001b[1;3m\n",
      "Invoking: `sql_db_list_tables` with `{}`\n",
      "\n",
      "\n",
      "\u001b[0m\u001b[38;5;200m\u001b[1;3mtitanic\u001b[0m\u001b[32;1m\u001b[1;3m\n",
      "Invoking: `sql_db_schema` with `{'table_names': 'titanic'}`\n",
      "\n",
      "\n",
      "\u001b[0m\u001b[33;1m\u001b[1;3m\n",
      "CREATE TABLE titanic (\n",
      "\t\"PassengerId\" BIGINT, \n",
      "\t\"Survived\" BIGINT, \n",
      "\t\"Pclass\" BIGINT, \n",
      "\t\"Name\" TEXT, \n",
      "\t\"Sex\" TEXT, \n",
      "\t\"Age\" FLOAT, \n",
      "\t\"SibSp\" BIGINT, \n",
      "\t\"Parch\" BIGINT, \n",
      "\t\"Ticket\" TEXT, \n",
      "\t\"Fare\" FLOAT, \n",
      "\t\"Cabin\" TEXT, \n",
      "\t\"Embarked\" TEXT\n",
      ")\n",
      "\n",
      "/*\n",
      "3 rows from titanic table:\n",
      "PassengerId\tSurvived\tPclass\tName\tSex\tAge\tSibSp\tParch\tTicket\tFare\tCabin\tEmbarked\n",
      "1\t0\t3\tBraund, Mr. Owen Harris\tmale\t22.0\t1\t0\tA/5 21171\t7.25\tNone\tS\n",
      "2\t1\t1\tCumings, Mrs. John Bradley (Florence Briggs Thayer)\tfemale\t38.0\t1\t0\tPC 17599\t71.2833\tC85\tC\n",
      "3\t1\t3\tHeikkinen, Miss. Laina\tfemale\t26.0\t0\t0\tSTON/O2. 3101282\t7.925\tNone\tS\n",
      "*/\u001b[0m\u001b[32;1m\u001b[1;3m\n",
      "Invoking: `sql_db_query_checker` with `{'query': 'SELECT Pclass, AVG(Age) as Mean_Age FROM titanic WHERE Survived = 1 GROUP BY Pclass'}`\n",
      "responded: The table 'titanic' contains the columns 'Survived', 'Pclass', and 'Age' which are relevant to the question. I will write a SQL query to calculate the mean age of survivors in each Pclass. The 'Survived' column has a value of 1 for survivors and 0 for non-survivors. The 'Pclass' column indicates the passenger class. The 'Age' column indicates the age of the passenger. \n",
      "\n",
      "Let's write the SQL query.\n",
      "\n",
      "\u001b[0m\u001b[36;1m\u001b[1;3mSELECT Pclass, AVG(Age) as Mean_Age FROM titanic WHERE Survived = 1 GROUP BY Pclass\u001b[0m\u001b[32;1m\u001b[1;3m\n",
      "Invoking: `sql_db_query` with `{'query': 'SELECT Pclass, AVG(Age) as Mean_Age FROM titanic WHERE Survived = 1 GROUP BY Pclass'}`\n",
      "\n",
      "\n",
      "\u001b[0m\u001b[36;1m\u001b[1;3m[(1, 35.36819672131148), (2, 25.90156626506024), (3, 20.646117647058823)]\u001b[0m\u001b[32;1m\u001b[1;3mThe mean age of survivors in each Pclass is as follows:\n",
      "\n",
      "- Pclass 1: 35.37 years\n",
      "- Pclass 2: 25.90 years\n",
      "- Pclass 3: 20.65 years\u001b[0m\n",
      "\n",
      "\u001b[1m> Finished chain.\u001b[0m\n"
     ]
    },
    {
     "data": {
      "text/plain": [
       "{'input': 'what is the  mean  age of survivors in each Pclass?',\n",
       " 'output': 'The mean age of survivors in each Pclass is as follows:\\n\\n- Pclass 1: 35.37 years\\n- Pclass 2: 25.90 years\\n- Pclass 3: 20.65 years'}"
      ]
     },
     "execution_count": 45,
     "metadata": {},
     "output_type": "execute_result"
    }
   ],
   "source": [
    "agent_excutor.invoke({\"input\":'what is the  mean  age of survivors in each Pclass?'})"
   ]
  },
  {
   "cell_type": "code",
   "execution_count": 47,
   "metadata": {},
   "outputs": [
    {
     "data": {
      "text/html": [
       "<div>\n",
       "<style scoped>\n",
       "    .dataframe tbody tr th:only-of-type {\n",
       "        vertical-align: middle;\n",
       "    }\n",
       "\n",
       "    .dataframe tbody tr th {\n",
       "        vertical-align: top;\n",
       "    }\n",
       "\n",
       "    .dataframe thead th {\n",
       "        text-align: right;\n",
       "    }\n",
       "</style>\n",
       "<table border=\"1\" class=\"dataframe\">\n",
       "  <thead>\n",
       "    <tr style=\"text-align: right;\">\n",
       "      <th></th>\n",
       "      <th>Survived</th>\n",
       "      <th>Pclass</th>\n",
       "      <th>Age</th>\n",
       "    </tr>\n",
       "  </thead>\n",
       "  <tbody>\n",
       "    <tr>\n",
       "      <th>0</th>\n",
       "      <td>0</td>\n",
       "      <td>1</td>\n",
       "      <td>43.695312</td>\n",
       "    </tr>\n",
       "    <tr>\n",
       "      <th>1</th>\n",
       "      <td>0</td>\n",
       "      <td>2</td>\n",
       "      <td>33.544444</td>\n",
       "    </tr>\n",
       "    <tr>\n",
       "      <th>2</th>\n",
       "      <td>0</td>\n",
       "      <td>3</td>\n",
       "      <td>26.555556</td>\n",
       "    </tr>\n",
       "    <tr>\n",
       "      <th>3</th>\n",
       "      <td>1</td>\n",
       "      <td>1</td>\n",
       "      <td>35.368197</td>\n",
       "    </tr>\n",
       "    <tr>\n",
       "      <th>4</th>\n",
       "      <td>1</td>\n",
       "      <td>2</td>\n",
       "      <td>25.901566</td>\n",
       "    </tr>\n",
       "    <tr>\n",
       "      <th>5</th>\n",
       "      <td>1</td>\n",
       "      <td>3</td>\n",
       "      <td>20.646118</td>\n",
       "    </tr>\n",
       "  </tbody>\n",
       "</table>\n",
       "</div>"
      ],
      "text/plain": [
       "   Survived  Pclass        Age\n",
       "0         0       1  43.695312\n",
       "1         0       2  33.544444\n",
       "2         0       3  26.555556\n",
       "3         1       1  35.368197\n",
       "4         1       2  25.901566\n",
       "5         1       3  20.646118"
      ]
     },
     "execution_count": 47,
     "metadata": {},
     "output_type": "execute_result"
    }
   ],
   "source": [
    "df.groupby(['Survived','Pclass'])['Age'].mean().reset_index()"
   ]
  },
  {
   "cell_type": "code",
   "execution_count": null,
   "metadata": {},
   "outputs": [],
   "source": []
  },
  {
   "cell_type": "code",
   "execution_count": 87,
   "metadata": {},
   "outputs": [],
   "source": [
    "from src.utils.load_config import *\n",
    "from sqlalchemy import create_engine, inspect\n",
    "def PrepareSQLFromTabularData():\n",
    "\n",
    "\n",
    "    app_config,config_path=load_yaml_config()\n",
    "\n",
    "    directories=load_directories(app_config=app_config)\n",
    "\n",
    "    files_dir=directories['stored_csv_xlsx_directory']\n",
    "    file_dir_list=os.listdir(files_dir)\n",
    "\n",
    "    db_path=directories['stored_csv_xlsx_sqldb_directory']\n",
    "    db_path=f\"sqlite:///{db_path}\"\n",
    "    engine=create_engine(db_path)\n",
    "\n",
    "\n",
    "    for file in file_dir_list:\n",
    "\n",
    "        full_file_path=os.path.join(files_dir,file)\n",
    "        file_name,file_extension=os.path.splitext(file)\n",
    "\n",
    "        if file_extension=='.csv':\n",
    "\n",
    "            df=pd.read_csv(full_file_path)\n",
    "\n",
    "        elif file_extension=='.xslx':\n",
    "\n",
    "            df=pd.read_excel(full_file_path)\n",
    "\n",
    "        else:\n",
    "\n",
    "            raise ValueError(\"The selected file type is not supported\")\n",
    "        \n",
    "        df.to_sql(file_name,engine,index=False,if_exists='replace')\n",
    "\n",
    "        insp=inspect(engine)\n",
    "        table_names=insp.get_table_names()\n",
    "\n",
    "        print(\"available table names in created sql db\",table_names,\"in\",full_file_path)\n",
    "        \n",
    "\n",
    "\n"
   ]
  },
  {
   "cell_type": "code",
   "execution_count": 88,
   "metadata": {},
   "outputs": [
    {
     "name": "stdout",
     "output_type": "stream",
     "text": [
      "available table names in created sql db ['cancer', 'diabetes'] in data/csv_data\\cancer.csv\n",
      "available table names in created sql db ['cancer', 'diabetes'] in data/csv_data\\diabetes.csv\n"
     ]
    }
   ],
   "source": [
    "PrepareSQLFromTabularData()"
   ]
  },
  {
   "cell_type": "code",
   "execution_count": null,
   "metadata": {},
   "outputs": [],
   "source": []
  }
 ],
 "metadata": {
  "kernelspec": {
   "display_name": "env",
   "language": "python",
   "name": "python3"
  },
  "language_info": {
   "codemirror_mode": {
    "name": "ipython",
    "version": 3
   },
   "file_extension": ".py",
   "mimetype": "text/x-python",
   "name": "python",
   "nbconvert_exporter": "python",
   "pygments_lexer": "ipython3",
   "version": "3.9.10"
  }
 },
 "nbformat": 4,
 "nbformat_minor": 2
}
